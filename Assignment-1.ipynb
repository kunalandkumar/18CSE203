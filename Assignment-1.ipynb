{
 "cells": [
  {
   "cell_type": "code",
   "execution_count": 1,
   "metadata": {},
   "outputs": [
    {
     "name": "stdout",
     "output_type": "stream",
     "text": [
      "Mean is : 20.25\n",
      "Median is : 13.5\n",
      "Mode is : 20.25\n"
     ]
    }
   ],
   "source": [
    "import numpy \n",
    "import statistics as s\n",
    "num=[10,12,15,22,12,24,12,55]\n",
    "x=numpy.mean(num)\n",
    "y=numpy.median(num)\n",
    "z=s.mode(num)\n",
    "print(\"Mean is :\",x)\n",
    "print(\"Median is :\",y)\n",
    "print(\"Mode is :\",x)\n"
   ]
  },
  {
   "cell_type": "code",
   "execution_count": 2,
   "metadata": {},
   "outputs": [
    {
     "name": "stdout",
     "output_type": "stream",
     "text": [
      "Standard Dev. is : 13.970952007647869\n",
      "Variance is : 195.1875\n"
     ]
    }
   ],
   "source": [
    "num=[10,12,15,22,12,24,12,55]\n",
    "x=numpy.std(num)\n",
    "y=numpy.var(num)\n",
    "print(\"Standard Dev. is :\",x)\n",
    "print(\"Variance is :\",y)"
   ]
  },
  {
   "cell_type": "code",
   "execution_count": null,
   "metadata": {},
   "outputs": [],
   "source": []
  }
 ],
 "metadata": {
  "kernelspec": {
   "display_name": "Python 3",
   "language": "python",
   "name": "python3"
  },
  "language_info": {
   "codemirror_mode": {
    "name": "ipython",
    "version": 3
   },
   "file_extension": ".py",
   "mimetype": "text/x-python",
   "name": "python",
   "nbconvert_exporter": "python",
   "pygments_lexer": "ipython3",
   "version": "3.7.3"
  }
 },
 "nbformat": 4,
 "nbformat_minor": 2
}
